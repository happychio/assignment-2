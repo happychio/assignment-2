{
 "cells": [
  {
   "cell_type": "code",
   "execution_count": null,
   "id": "7b13a8fe",
   "metadata": {},
   "outputs": [],
   "source": [
    "'''Assignment 2\n",
    "\n",
    "This assignment covers your intermediate profiency with\n",
    "    Python. It engages your ability to transform\n",
    "    data without affecting anything outside the program.\n",
    "\n",
    "This assignment places heavy emphasis on Python data structures.\n",
    "'''"
   ]
  },
  {
   "cell_type": "code",
   "execution_count": null,
   "id": "0cefbc3f",
   "metadata": {},
   "outputs": [],
   "source": [
    "def specific_filter(l):\n",
    "    '''Item 1.\n",
    "    Specific Filter. 2 points.\n",
    "\n",
    "    Returns the elements of a list that are greater than the integer 50.\n",
    "    This is called \"filtering\" each number based on whether it is greater than 50. \n",
    "        Filtering is a very common pattern in high-level (i.e., human-readable)\n",
    "        programming.\n",
    "    For this number:\n",
    "        1. The parameter l will be a list of either floats or ints.\n",
    "    \n",
    "    Parameters\n",
    "    ----------\n",
    "    l: list\n",
    "        a list of numbers (floats or ints)\n",
    "\n",
    "    Returns\n",
    "    -------\n",
    "    list\n",
    "        a list of elements in l that are greater than the integer 50\n",
    "    '''\n",
    "    # Write your code below this line"
   ]
  },
  {
   "cell_type": "code",
   "execution_count": 46,
   "id": "0189f41d",
   "metadata": {},
   "outputs": [],
   "source": [
    "def specific_filter(l):\n",
    "    x = len(l)\n",
    "    numlist =[]\n",
    "    for i in range (x):\n",
    "        if l[i] > 50:\n",
    "            numlist.append(l[i])\n",
    "        \n",
    "    return numlist"
   ]
  },
  {
   "cell_type": "code",
   "execution_count": 47,
   "id": "0904e71d",
   "metadata": {},
   "outputs": [
    {
     "name": "stdout",
     "output_type": "stream",
     "text": [
      "[55, 66, 53, 52]\n"
     ]
    }
   ],
   "source": [
    "l = [0,2,3,43,55,66,34,53,52,13]\n",
    "\n",
    "result = specific_filter(l)\n",
    "print(result)"
   ]
  },
  {
   "cell_type": "code",
   "execution_count": null,
   "id": "5b0cd81d",
   "metadata": {},
   "outputs": [],
   "source": [
    "def general_filter(l, filter_function):\n",
    "    '''Item 2.\n",
    "    General Filter. 3 points.\n",
    "\n",
    "    Returns the elements of a list that return True when passed to a filtering function.\n",
    "    This is how general filters are done.\n",
    "    For this number:\n",
    "        1. The parameter l will be a list of any data type.\n",
    "        2. The filter_function is just a function that has been passed as an argument to \n",
    "            the general_filter function. It accepts a single argument and returns either\n",
    "            True or False.\n",
    "    \n",
    "    Parameters\n",
    "    ----------\n",
    "    l: list\n",
    "        a list of any data type\n",
    "    filter_function: function\n",
    "        a function which accepts any data type and returns bool\n",
    "\n",
    "    Returns\n",
    "    -------\n",
    "    '''\n",
    "    # Write your code below this line"
   ]
  },
  {
   "cell_type": "code",
   "execution_count": 12,
   "id": "a68e7113",
   "metadata": {},
   "outputs": [],
   "source": [
    "def general_filter(l, filter_function):\n",
    "    x = len(l)\n",
    "    for i in range (x):\n",
    "        if str(l[i]) == filter_function:\n",
    "            return True\n",
    "            break\n",
    "        else:\n",
    "            return False"
   ]
  },
  {
   "cell_type": "code",
   "execution_count": 13,
   "id": "c642e5d4",
   "metadata": {},
   "outputs": [
    {
     "name": "stdout",
     "output_type": "stream",
     "text": [
      "Enter function: 23\n",
      "True\n"
     ]
    }
   ],
   "source": [
    "l = [23,2.3,24,1.3]\n",
    "filter_function = input(\"Enter function: \")\n",
    "test = general_filter(l, filter_function)\n",
    "print(test)"
   ]
  },
  {
   "cell_type": "code",
   "execution_count": null,
   "id": "ef9a5e85",
   "metadata": {},
   "outputs": [],
   "source": [
    "def specific_map(l):\n",
    "    '''Item 3.\n",
    "    Specific Map. 2 points.\n",
    "\n",
    "    Accepts a list of numbers. Returns another list which contains the squares of the\n",
    "        numbers.\n",
    "    This is called \"mapping\" each number to its square. Mapping is a very common pattern\n",
    "        in high-level (i.e., human-readable) programming.\n",
    "    For this number:\n",
    "        1. The parameter l will be a list of either floats or ints.\n",
    "\n",
    "    Example:\n",
    "    specific_map([1, 2, 3, 4, 5]) -> [1, 4, 9, 16, 25]\n",
    "    \n",
    "    Parameters\n",
    "    ----------\n",
    "    l: list\n",
    "        a list of numbers (floats or ints)\n",
    "\n",
    "    Returns\n",
    "    -------\n",
    "    list\n",
    "        a list of the squares of the elements in l\n",
    "    '''\n",
    "    # Write your code below this line\n",
    "    \n",
    "    "
   ]
  },
  {
   "cell_type": "code",
   "execution_count": 44,
   "id": "f89a18c6",
   "metadata": {},
   "outputs": [],
   "source": [
    "def specific_map(l):\n",
    "    squares = []\n",
    "    length = len(l)\n",
    "    \n",
    "    for i in range (length):\n",
    "        num =  int(l[i])\n",
    "        num = num*num\n",
    "        squares.append(num)\n",
    "        \n",
    "    return squares\n"
   ]
  },
  {
   "cell_type": "code",
   "execution_count": 45,
   "id": "0caf0812",
   "metadata": {},
   "outputs": [
    {
     "name": "stdout",
     "output_type": "stream",
     "text": [
      "Enter element: 1\n",
      "Add more? (Y/N)Y\n",
      "Enter element: 2\n",
      "Add more? (Y/N)Y\n",
      "Enter element: 3\n",
      "Add more? (Y/N)N\n",
      "[1, 4, 9]\n"
     ]
    }
   ],
   "source": [
    "l = []\n",
    "\n",
    "while True:\n",
    "    x = input(\"Enter element: \")\n",
    "    ask = l.append(x)\n",
    "    ender = input(\"Add more? (Y/N)\")\n",
    "    \n",
    "    if ender == \"N\":\n",
    "        break\n",
    "        \n",
    "put = specific_map(l)\n",
    "\n",
    "print(put)\n"
   ]
  },
  {
   "cell_type": "code",
   "execution_count": null,
   "id": "e6acf5da",
   "metadata": {},
   "outputs": [],
   "source": [
    "def general_map(l, map_function):\n",
    "    '''Item 4.\n",
    "    General Map. 3 points.\n",
    "\n",
    "    Accepts a list of any data type. Returns another list which uses a function to map\n",
    "        the first lists's elements to the second list.\n",
    "    This is how general maps are done.\n",
    "    \n",
    "    Parameters\n",
    "    ----------\n",
    "    l: list\n",
    "        a list of any data type\n",
    "    map_function: function\n",
    "        a function which accepts one argument and returns any data type\n",
    "\n",
    "    Returns\n",
    "    -------\n",
    "    list\n",
    "        a list which contains the mapped elements of l\n",
    "    '''\n",
    "    # Write your code below this line"
   ]
  },
  {
   "cell_type": "code",
   "execution_count": 52,
   "id": "8ec875dd",
   "metadata": {},
   "outputs": [],
   "source": [
    "def general_map(l, map_function):\n",
    "    length = len(l)\n",
    "    new = []\n",
    "    for i in range (length):\n",
    "        num =  int(l[i])\n",
    "        num = l[i] + map_function\n",
    "        new.append(num)\n",
    "        \n",
    "    return new"
   ]
  },
  {
   "cell_type": "code",
   "execution_count": 53,
   "id": "7f0516cd",
   "metadata": {},
   "outputs": [
    {
     "name": "stdout",
     "output_type": "stream",
     "text": [
      "Enter element: 1\n",
      "Add more? (Y/N)Y\n",
      "Enter element: 2\n",
      "Add more? (Y/N)Y\n",
      "Enter element: 3\n",
      "Add more? (Y/N)N\n",
      "Enter Something: Hi\n",
      "['1Hi', '2Hi', '3Hi']\n"
     ]
    }
   ],
   "source": [
    "l = []\n",
    "\n",
    "while True:\n",
    "    x = input(\"Enter element: \")\n",
    "    ask = l.append(x)\n",
    "    ender = input(\"Add more? (Y/N)\")\n",
    "    \n",
    "    if ender == \"N\":\n",
    "        map_function = input(\"Enter Something: \")\n",
    "        break\n",
    "\n",
    "put = general_map(l, map_function)\n",
    "\n",
    "print(put)\n"
   ]
  },
  {
   "cell_type": "code",
   "execution_count": null,
   "id": "7957b00e",
   "metadata": {},
   "outputs": [],
   "source": []
  }
 ],
 "metadata": {
  "kernelspec": {
   "display_name": "Python 3 (ipykernel)",
   "language": "python",
   "name": "python3"
  },
  "language_info": {
   "codemirror_mode": {
    "name": "ipython",
    "version": 3
   },
   "file_extension": ".py",
   "mimetype": "text/x-python",
   "name": "python",
   "nbconvert_exporter": "python",
   "pygments_lexer": "ipython3",
   "version": "3.9.7"
  }
 },
 "nbformat": 4,
 "nbformat_minor": 5
}
